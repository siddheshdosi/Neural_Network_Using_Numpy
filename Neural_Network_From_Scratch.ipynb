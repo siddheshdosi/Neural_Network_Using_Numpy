{
 "cells": [
  {
   "cell_type": "code",
   "execution_count": 1,
   "metadata": {},
   "outputs": [],
   "source": [
    "import numpy as np"
   ]
  },
  {
   "cell_type": "code",
   "execution_count": 20,
   "metadata": {},
   "outputs": [],
   "source": [
    "def sigmoid(x):\n",
    "    z = 1/(1+(np.exp(-x)))\n",
    "    return z"
   ]
  },
  {
   "cell_type": "code",
   "execution_count": 29,
   "metadata": {},
   "outputs": [],
   "source": [
    "def nn(x,y,n_hl1,n_hl2):\n",
    "    n_input = x.shape[0]\n",
    "    n_output=y.shape[0]\n",
    "    w1 = np.random.rand(n_input,n_hl1)\n",
    "    b1 = np.random.rand(n_hl1)\n",
    "    z1 = sigmoid((np.dot(x,w1))+b1)\n",
    "    w2  = np.random.rand(n_hl1,n_hl2)\n",
    "    b2 = np.random.rand(n_hl2)\n",
    "    z2 = sigmoid((np.dot(z1,w2))+b2)\n",
    "    \n",
    "    output = np.random.rand(n_hl2,n_output)\n",
    "    b = np.random.rand(n_output)\n",
    "    y_cap = sigmoid((np.dot(z2,output))+b)\n",
    "    return y_cap"
   ]
  },
  {
   "cell_type": "code",
   "execution_count": 32,
   "metadata": {},
   "outputs": [
    {
     "data": {
      "text/plain": [
       "array([0.94012945, 0.93662609, 0.97378644, 0.83576142, 0.97029547,\n",
       "       0.95019674])"
      ]
     },
     "execution_count": 32,
     "metadata": {},
     "output_type": "execute_result"
    }
   ],
   "source": [
    "x = np.array([1,2,3,4,5,6])\n",
    "y=np.array([0,1,0,1,0,1])\n",
    "\n",
    "nn(x,y,4,5)"
   ]
  },
  {
   "cell_type": "code",
   "execution_count": 23,
   "metadata": {},
   "outputs": [],
   "source": [
    "x = np.linspace(-10, 10, 100)\n",
    "z = 1/(1+(np.exp(-x)))"
   ]
  },
  {
   "cell_type": "code",
   "execution_count": 24,
   "metadata": {},
   "outputs": [
    {
     "data": {
      "text/plain": [
       "array([4.53978687e-05, 5.55606489e-05, 6.79983174e-05, 8.32200197e-05,\n",
       "       1.01848815e-04, 1.24647146e-04, 1.52547986e-04, 1.86692945e-04,\n",
       "       2.28478855e-04, 2.79614739e-04, 3.42191434e-04, 4.18766684e-04,\n",
       "       5.12469082e-04, 6.27124987e-04, 7.67413430e-04, 9.39055039e-04,\n",
       "       1.14904229e-03, 1.40591988e-03, 1.72012560e-03, 2.10440443e-03,\n",
       "       2.57431039e-03, 3.14881358e-03, 3.85103236e-03, 4.70911357e-03,\n",
       "       5.75728612e-03, 7.03711536e-03, 8.59898661e-03, 1.05038445e-02,\n",
       "       1.28252101e-02, 1.56514861e-02, 1.90885420e-02, 2.32625358e-02,\n",
       "       2.83228820e-02, 3.44451957e-02, 4.18339400e-02, 5.07243606e-02,\n",
       "       6.13831074e-02, 7.41067363e-02, 8.92170603e-02, 1.07052146e-01,\n",
       "       1.27951705e-01, 1.52235823e-01, 1.80176593e-01, 2.11963334e-01,\n",
       "       2.47663801e-01, 2.87185901e-01, 3.30246430e-01, 3.76354517e-01,\n",
       "       4.24816868e-01, 4.74768924e-01, 5.25231076e-01, 5.75183132e-01,\n",
       "       6.23645483e-01, 6.69753570e-01, 7.12814099e-01, 7.52336199e-01,\n",
       "       7.88036666e-01, 8.19823407e-01, 8.47764177e-01, 8.72048295e-01,\n",
       "       8.92947854e-01, 9.10782940e-01, 9.25893264e-01, 9.38616893e-01,\n",
       "       9.49275639e-01, 9.58166060e-01, 9.65554804e-01, 9.71677118e-01,\n",
       "       9.76737464e-01, 9.80911458e-01, 9.84348514e-01, 9.87174790e-01,\n",
       "       9.89496155e-01, 9.91401013e-01, 9.92962885e-01, 9.94242714e-01,\n",
       "       9.95290886e-01, 9.96148968e-01, 9.96851186e-01, 9.97425690e-01,\n",
       "       9.97895596e-01, 9.98279874e-01, 9.98594080e-01, 9.98850958e-01,\n",
       "       9.99060945e-01, 9.99232587e-01, 9.99372875e-01, 9.99487531e-01,\n",
       "       9.99581233e-01, 9.99657809e-01, 9.99720385e-01, 9.99771521e-01,\n",
       "       9.99813307e-01, 9.99847452e-01, 9.99875353e-01, 9.99898151e-01,\n",
       "       9.99916780e-01, 9.99932002e-01, 9.99944439e-01, 9.99954602e-01])"
      ]
     },
     "execution_count": 24,
     "metadata": {},
     "output_type": "execute_result"
    }
   ],
   "source": [
    "z"
   ]
  },
  {
   "cell_type": "code",
   "execution_count": 25,
   "metadata": {},
   "outputs": [
    {
     "data": {
      "text/plain": [
       "0.9999546021312976"
      ]
     },
     "execution_count": 25,
     "metadata": {},
     "output_type": "execute_result"
    }
   ],
   "source": [
    "sigmoid(10)"
   ]
  },
  {
   "cell_type": "code",
   "execution_count": 27,
   "metadata": {},
   "outputs": [
    {
     "data": {
      "image/png": "[encoded data removed]",
      "text/plain": [
       "<Figure size 432x288 with 1 Axes>"
      ]
     },
     "metadata": {
      "needs_background": "light"
     },
     "output_type": "display_data"
    }
   ],
   "source": [
    "import matplotlib.pyplot as plt\n",
    "%matplotlib inline\n",
    "plt.plot(x,z)\n",
    "plt.xlabel('x')\n",
    "plt.ylabel('Sigmoid(x)')\n",
    "plt.show()"
   ]
  },
  {
   "cell_type": "code",
   "execution_count": 22,
   "metadata": {},
   "outputs": [
    {
     "data": {
      "text/plain": [
       "array([-10.        ,  -9.7979798 ,  -9.5959596 ,  -9.39393939,\n",
       "        -9.19191919,  -8.98989899,  -8.78787879,  -8.58585859,\n",
       "        -8.38383838,  -8.18181818,  -7.97979798,  -7.77777778,\n",
       "        -7.57575758,  -7.37373737,  -7.17171717,  -6.96969697,\n",
       "        -6.76767677,  -6.56565657,  -6.36363636,  -6.16161616,\n",
       "        -5.95959596,  -5.75757576,  -5.55555556,  -5.35353535,\n",
       "        -5.15151515,  -4.94949495,  -4.74747475,  -4.54545455,\n",
       "        -4.34343434,  -4.14141414,  -3.93939394,  -3.73737374,\n",
       "        -3.53535354,  -3.33333333,  -3.13131313,  -2.92929293,\n",
       "        -2.72727273,  -2.52525253,  -2.32323232,  -2.12121212,\n",
       "        -1.91919192,  -1.71717172,  -1.51515152,  -1.31313131,\n",
       "        -1.11111111,  -0.90909091,  -0.70707071,  -0.50505051,\n",
       "        -0.3030303 ,  -0.1010101 ,   0.1010101 ,   0.3030303 ,\n",
       "         0.50505051,   0.70707071,   0.90909091,   1.11111111,\n",
       "         1.31313131,   1.51515152,   1.71717172,   1.91919192,\n",
       "         2.12121212,   2.32323232,   2.52525253,   2.72727273,\n",
       "         2.92929293,   3.13131313,   3.33333333,   3.53535354,\n",
       "         3.73737374,   3.93939394,   4.14141414,   4.34343434,\n",
       "         4.54545455,   4.74747475,   4.94949495,   5.15151515,\n",
       "         5.35353535,   5.55555556,   5.75757576,   5.95959596,\n",
       "         6.16161616,   6.36363636,   6.56565657,   6.76767677,\n",
       "         6.96969697,   7.17171717,   7.37373737,   7.57575758,\n",
       "         7.77777778,   7.97979798,   8.18181818,   8.38383838,\n",
       "         8.58585859,   8.78787879,   8.98989899,   9.19191919,\n",
       "         9.39393939,   9.5959596 ,   9.7979798 ,  10.        ])"
      ]
     },
     "execution_count": 22,
     "metadata": {},
     "output_type": "execute_result"
    }
   ],
   "source": [
    "np.linspace(-10, 10, 100)"
   ]
  }
 ],
 "metadata": {
  "kernelspec": {
   "display_name": "Python 3",
   "language": "python",
   "name": "python3"
  },
  "language_info": {
   "codemirror_mode": {
    "name": "ipython",
    "version": 3
   },
   "file_extension": ".py",
   "mimetype": "text/x-python",
   "name": "python",
   "nbconvert_exporter": "python",
   "pygments_lexer": "ipython3",
   "version": "3.7.3"
  }
 },
 "nbformat": 4,
 "nbformat_minor": 2
}
